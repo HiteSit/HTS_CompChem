{
 "cells": [
  {
   "cell_type": "markdown",
   "metadata": {},
   "source": [
    "# Classic Docking"
   ]
  },
  {
   "cell_type": "code",
   "execution_count": null,
   "metadata": {},
   "outputs": [],
   "source": [
    "import os\n",
    "from utils.docking import Classical_Docking\n",
    "from utils.docking import Scaffold_Docking\n",
    "\n",
    "from utils.analysis import Analyse_Docking"
   ]
  },
  {
   "cell_type": "code",
   "execution_count": null,
   "metadata": {},
   "outputs": [],
   "source": [
    "workdir = \"classic_docking\""
   ]
  },
  {
   "cell_type": "code",
   "execution_count": null,
   "metadata": {},
   "outputs": [],
   "source": [
    "gold_docking = Classical_Docking(f\"./{workdir}/5ovf.pdb\", f\"./{workdir}/ligands/ligands_to_dock.sdf\", f\"./{workdir}/crystal.sdf\")"
   ]
  },
  {
   "cell_type": "code",
   "execution_count": null,
   "metadata": {},
   "outputs": [],
   "source": [
    "gold_docking.work_dir(workdir)\n",
    "gold_docking.startup_folders()\n",
    "gold_docking.prepare_ligands()\n",
    "gold_docking.prepare_protein()"
   ]
  },
  {
   "cell_type": "code",
   "execution_count": null,
   "metadata": {},
   "outputs": [],
   "source": [
    "gold_docking.run_docking(n_cpu=10)"
   ]
  },
  {
   "cell_type": "code",
   "execution_count": null,
   "metadata": {},
   "outputs": [],
   "source": [
    "gold_docking.extract_files()"
   ]
  },
  {
   "cell_type": "code",
   "execution_count": null,
   "metadata": {},
   "outputs": [],
   "source": [
    "analysis = Analyse_Docking()\n",
    "result_df = analysis.run()"
   ]
  },
  {
   "cell_type": "code",
   "execution_count": null,
   "metadata": {},
   "outputs": [],
   "source": [
    "result_df.head(10)"
   ]
  },
  {
   "cell_type": "markdown",
   "metadata": {},
   "source": [
    "# Scaffold Docking"
   ]
  },
  {
   "cell_type": "code",
   "execution_count": 1,
   "metadata": {},
   "outputs": [],
   "source": [
    "import os\n",
    "from utils.docking import Classical_Docking\n",
    "from utils.docking import Scaffold_Docking\n",
    "\n",
    "from utils.analysis import Analyse_Docking"
   ]
  },
  {
   "cell_type": "code",
   "execution_count": 2,
   "metadata": {},
   "outputs": [],
   "source": [
    "workdir = \"scaffold_docking\""
   ]
  },
  {
   "cell_type": "code",
   "execution_count": 3,
   "metadata": {},
   "outputs": [],
   "source": [
    "scaffold_docking = Scaffold_Docking(f\"./{workdir}/5ovf.pdb\", f\"./{workdir}/ligands/ligands_to_dock.sdf\", f\"./{workdir}/crystal.sdf\", f\"./{workdir}/scaffold.sdf\")"
   ]
  },
  {
   "cell_type": "code",
   "execution_count": 4,
   "metadata": {},
   "outputs": [],
   "source": [
    "scaffold_docking.work_dir(workdir)\n",
    "scaffold_docking.startup_folders()\n",
    "scaffold_docking.prepare_ligands()\n",
    "scaffold_docking.prepare_protein()"
   ]
  },
  {
   "cell_type": "code",
   "execution_count": 5,
   "metadata": {},
   "outputs": [
    {
     "name": "stdout",
     "output_type": "stream",
     "text": [
      "Starting GOLD with conf file /mnt/c/Users/ricca/Desktop/Documents/1_Coding/1_Script_Github/Chem_Script_Repo/GOLD_Classic_Scaffold/scaffold_docking/output/example_1.conf\n",
      "Starting GOLD with conf file /mnt/c/Users/ricca/Desktop/Documents/1_Coding/1_Script_Github/Chem_Script_Repo/GOLD_Classic_Scaffold/scaffold_docking/output/crystal.confStarting GOLD with conf file /mnt/c/Users/ricca/Desktop/Documents/1_Coding/1_Script_Github/Chem_Script_Repo/GOLD_Classic_Scaffold/scaffold_docking/output/example_2.conf\n",
      "\n",
      "Unsetting the LD_LIBRARY_PATH environment variable.\n",
      "Previous value was /usr/local/cuda-11.0/lib64:/lib/\n",
      "Please do not rely on CCDC wrapper scripts doing this and ensure the directories in LD_LIBRARY_PATH do not interfere with CCDC provided libraries.\n",
      "Setting up GOLD environment...\n",
      "GOLD Version 2022.3.0\n",
      "Unsetting the LD_LIBRARY_PATH environment variable.\n",
      "Previous value was /usr/local/cuda-11.0/lib64:/lib/\n",
      "Please do not rely on CCDC wrapper scripts doing this and ensure the directories in LD_LIBRARY_PATH do not interfere with CCDC provided libraries.\n",
      "Setting up GOLD environment...\n",
      "Unsetting the LD_LIBRARY_PATH environment variable.\n",
      "Previous value was /usr/local/cuda-11.0/lib64:/lib/\n",
      "Please do not rely on CCDC wrapper scripts doing this and ensure the directories in LD_LIBRARY_PATH do not interfere with CCDC provided libraries.\n",
      "Setting up GOLD environment...\n",
      "Running:\n",
      " \n",
      "     \"/home/hitesit/CCDC/Discovery_2022/GOLD/gold/d_linux_64/bin/gold_linux_64\" \"/mnt/c/Users/ricca/Desktop/Documents/1_Coding/1_Script_Github/Chem_Script_Repo/GOLD_Classic_Scaffold/scaffold_docking/output/example_1.conf\"\n",
      "\n",
      "GOLD Version 2022.3.0\n",
      "GOLD Version 2022.3.0\n",
      "Running:\n",
      " \n",
      "     \"/home/hitesit/CCDC/Discovery_2022/GOLD/gold/d_linux_64/bin/gold_linux_64\" \"/mnt/c/Users/ricca/Desktop/Documents/1_Coding/1_Script_Github/Chem_Script_Repo/GOLD_Classic_Scaffold/scaffold_docking/output/crystal.conf\"\n",
      "\n",
      "Running:\n",
      " \n",
      "     \"/home/hitesit/CCDC/Discovery_2022/GOLD/gold/d_linux_64/bin/gold_linux_64\" \"/mnt/c/Users/ricca/Desktop/Documents/1_Coding/1_Script_Github/Chem_Script_Repo/GOLD_Classic_Scaffold/scaffold_docking/output/example_2.conf\"\n",
      "\n"
     ]
    }
   ],
   "source": [
    "scaffold_docking.run_docking(n_cpu=12)"
   ]
  },
  {
   "cell_type": "code",
   "execution_count": 6,
   "metadata": {},
   "outputs": [],
   "source": [
    "scaffold_docking.extract_files()"
   ]
  },
  {
   "cell_type": "code",
   "execution_count": 7,
   "metadata": {},
   "outputs": [
    {
     "name": "stdout",
     "output_type": "stream",
     "text": [
      "./output/crystal.conf run not completed\n",
      "./output/example_2.conf worked nice\n",
      "./output/example_2.conf worked nice\n",
      "./output/example_2.conf worked nice\n",
      "./output/example_2.conf worked nice\n",
      "./output/example_2.conf worked nice\n",
      "./output/example_2.conf worked nice\n",
      "./output/example_2.conf worked nice\n",
      "./output/example_1.conf worked nice\n",
      "./output/example_2.conf worked nice\n",
      "./output/example_2.conf worked nice\n",
      "./output/example_1.conf worked nice\n",
      "./output/example_2.conf worked nice\n"
     ]
    }
   ],
   "source": [
    "analysis = Analyse_Docking()\n",
    "result_df = analysis.run()"
   ]
  },
  {
   "cell_type": "code",
   "execution_count": 8,
   "metadata": {},
   "outputs": [
    {
     "data": {
      "text/html": [
       "<div>\n",
       "<style scoped>\n",
       "    .dataframe tbody tr th:only-of-type {\n",
       "        vertical-align: middle;\n",
       "    }\n",
       "\n",
       "    .dataframe tbody tr th {\n",
       "        vertical-align: top;\n",
       "    }\n",
       "\n",
       "    .dataframe thead th {\n",
       "        text-align: right;\n",
       "    }\n",
       "</style>\n",
       "<table border=\"1\" class=\"dataframe\">\n",
       "  <thead>\n",
       "    <tr style=\"text-align: right;\">\n",
       "      <th></th>\n",
       "      <th></th>\n",
       "      <th>Gold.Chemscore.Fitness</th>\n",
       "      <th>Gold.Goldscore.Fitness</th>\n",
       "      <th>Hbond</th>\n",
       "    </tr>\n",
       "  </thead>\n",
       "  <tbody>\n",
       "    <tr>\n",
       "      <th rowspan=\"10\" valign=\"top\">example_1</th>\n",
       "      <th>1</th>\n",
       "      <td>32.4389</td>\n",
       "      <td>78.5439</td>\n",
       "      <td>0</td>\n",
       "    </tr>\n",
       "    <tr>\n",
       "      <th>2</th>\n",
       "      <td>33.0010</td>\n",
       "      <td>78.3056</td>\n",
       "      <td>0</td>\n",
       "    </tr>\n",
       "    <tr>\n",
       "      <th>3</th>\n",
       "      <td>32.5414</td>\n",
       "      <td>77.9154</td>\n",
       "      <td>0</td>\n",
       "    </tr>\n",
       "    <tr>\n",
       "      <th>4</th>\n",
       "      <td>31.9729</td>\n",
       "      <td>77.9071</td>\n",
       "      <td>0</td>\n",
       "    </tr>\n",
       "    <tr>\n",
       "      <th>5</th>\n",
       "      <td>32.7423</td>\n",
       "      <td>77.7071</td>\n",
       "      <td>0</td>\n",
       "    </tr>\n",
       "    <tr>\n",
       "      <th>6</th>\n",
       "      <td>33.0124</td>\n",
       "      <td>77.6064</td>\n",
       "      <td>0</td>\n",
       "    </tr>\n",
       "    <tr>\n",
       "      <th>7</th>\n",
       "      <td>32.9764</td>\n",
       "      <td>77.5916</td>\n",
       "      <td>0</td>\n",
       "    </tr>\n",
       "    <tr>\n",
       "      <th>8</th>\n",
       "      <td>32.8483</td>\n",
       "      <td>77.1118</td>\n",
       "      <td>1</td>\n",
       "    </tr>\n",
       "    <tr>\n",
       "      <th>9</th>\n",
       "      <td>26.3132</td>\n",
       "      <td>76.9944</td>\n",
       "      <td>0</td>\n",
       "    </tr>\n",
       "    <tr>\n",
       "      <th>10</th>\n",
       "      <td>33.5014</td>\n",
       "      <td>76.4655</td>\n",
       "      <td>1</td>\n",
       "    </tr>\n",
       "  </tbody>\n",
       "</table>\n",
       "</div>"
      ],
      "text/plain": [
       "              Gold.Chemscore.Fitness  Gold.Goldscore.Fitness  Hbond\n",
       "example_1 1                  32.4389                 78.5439      0\n",
       "          2                  33.0010                 78.3056      0\n",
       "          3                  32.5414                 77.9154      0\n",
       "          4                  31.9729                 77.9071      0\n",
       "          5                  32.7423                 77.7071      0\n",
       "          6                  33.0124                 77.6064      0\n",
       "          7                  32.9764                 77.5916      0\n",
       "          8                  32.8483                 77.1118      1\n",
       "          9                  26.3132                 76.9944      0\n",
       "          10                 33.5014                 76.4655      1"
      ]
     },
     "execution_count": 8,
     "metadata": {},
     "output_type": "execute_result"
    }
   ],
   "source": [
    "result_df.head(10)"
   ]
  }
 ],
 "metadata": {
  "kernelspec": {
   "display_name": "CCDC",
   "language": "python",
   "name": "python3"
  },
  "language_info": {
   "codemirror_mode": {
    "name": "ipython",
    "version": 3
   },
   "file_extension": ".py",
   "mimetype": "text/x-python",
   "name": "python",
   "nbconvert_exporter": "python",
   "pygments_lexer": "ipython3",
   "version": "3.9.17"
  }
 },
 "nbformat": 4,
 "nbformat_minor": 2
}
