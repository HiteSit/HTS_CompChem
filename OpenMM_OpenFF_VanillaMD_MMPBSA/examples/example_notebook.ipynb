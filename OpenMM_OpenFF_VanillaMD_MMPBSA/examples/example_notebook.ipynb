{
 "cells": [
  {
   "cell_type": "code",
   "execution_count": 1,
   "id": "6eaeadf1e93bffa3",
   "metadata": {
    "collapsed": false,
    "ExecuteTime": {
     "end_time": "2024-08-21T14:06:33.274902Z",
     "start_time": "2024-08-21T14:06:31.604004Z"
    }
   },
   "outputs": [],
   "source": [
    "import concurrent\n",
    "import os\n",
    "import re\n",
    "import shutil\n",
    "import subprocess\n",
    "import sys\n",
    "from concurrent.futures import ProcessPoolExecutor, as_completed, ThreadPoolExecutor\n",
    "from io import StringIO\n",
    "from pathlib import Path\n",
    "from typing import Any, Dict, List, Tuple, Union\n",
    "\n",
    "import pandas as pd\n",
    "import parmed as pmd\n",
    "import pytraj as pt"
   ]
  },
  {
   "cell_type": "code",
   "execution_count": 7,
   "id": "515959bf",
   "metadata": {
    "ExecuteTime": {
     "end_time": "2024-08-21T14:06:48.836854Z",
     "start_time": "2024-08-21T14:06:48.833539Z"
    }
   },
   "outputs": [],
   "source": [
    "from Plain_MD import Molecular_Dynamics, Run_MD\n",
    "from Calc_MMPBSA import Wrapper_MMPBSA"
   ]
  },
  {
   "cell_type": "code",
   "execution_count": 8,
   "id": "2b4e3aad8b6f4248",
   "metadata": {
    "collapsed": false,
    "ExecuteTime": {
     "end_time": "2024-08-21T14:06:49.396748Z",
     "start_time": "2024-08-21T14:06:49.393823Z"
    }
   },
   "outputs": [],
   "source": [
    "# # Run settings\n",
    "# delta_pico = 0.002\n",
    "# \n",
    "# system_settings = {\n",
    "#     \"receptor_path\": \"./LAC3.pdb\",\n",
    "#     \"ligand_path\": \"./C4_prep.sdf\",\n",
    "#     \"delta_pico\": delta_pico,\n",
    "#     \"rerun\": False,\n",
    "#     \"gpu_id\": \"0\"\n",
    "# }\n",
    "# \n",
    "# nvt_settings = {\n",
    "#     \"steps\": int(50 // delta_pico),      \n",
    "#     \"dcd_save\":int(50 // delta_pico),\n",
    "#     \"log_save\":int(1 // delta_pico),\n",
    "#     \"temps_list_simulating\":[50, 100, 150, 200, 250, 300, 301]\n",
    "# }\n",
    "# \n",
    "# npt_settings = {\n",
    "#     \"steps\": int(50 // delta_pico),      \n",
    "#     \"dcd_save\": int(50 // delta_pico),\n",
    "#     \"log_save\": int(1 // delta_pico),\n",
    "#     \"rests_list_decreasing\":[1000000000, 100000, 1000, 100, 10, 1],\n",
    "#     \"atoms_to_restraints\":{\"CA\"}\n",
    "# }\n",
    "# \n",
    "# md_settings = {\n",
    "#     \"steps\": int(1000 // delta_pico),     \n",
    "#     \"dcd_save\":int(10 // delta_pico),\n",
    "#     \"log_save\":int(5 // delta_pico)\n",
    "# }"
   ]
  },
  {
   "cell_type": "code",
   "execution_count": 9,
   "id": "f91695a8eb9df3fa",
   "metadata": {
    "collapsed": false,
    "ExecuteTime": {
     "end_time": "2024-08-21T14:06:49.891127Z",
     "start_time": "2024-08-21T14:06:49.888581Z"
    }
   },
   "outputs": [],
   "source": [
    "# runner = Run_MD()\n",
    "# runner.equilibration_production(system_settings, nvt_settings, npt_settings, md_settings)"
   ]
  },
  {
   "cell_type": "code",
   "execution_count": 10,
   "id": "deea2a5d",
   "metadata": {
    "ExecuteTime": {
     "end_time": "2024-08-21T14:06:50.070997Z",
     "start_time": "2024-08-21T14:06:50.061794Z"
    }
   },
   "outputs": [],
   "source": [
    "traj_top_paths = {}\n",
    "for root, dirs, files in os.walk(\".\"):\n",
    "    for dir in dirs:\n",
    "        if dir.startswith(\"C4\"):\n",
    "            dirpath = Path(root) / dir\n",
    "\n",
    "            # Startup the dictionary\n",
    "            mydict = {str(dirpath): {\"PRMTOP\": \"\", \"DCD\": \"\"}}\n",
    "\n",
    "            for file in dirpath.iterdir():\n",
    "                if str(file).endswith(\"m.prmtop\"):\n",
    "                    mydict[str(dirpath)][\"PRMTOP\"] = str(file.absolute())\n",
    "                \n",
    "                if str(file).endswith(\"0.dcd\"):\n",
    "                    mydict[str(dirpath)][\"DCD\"] = str(file.absolute())\n",
    "            \n",
    "            traj_top_paths.update(mydict)"
   ]
  },
  {
   "cell_type": "code",
   "execution_count": 11,
   "id": "297fe871",
   "metadata": {
    "ExecuteTime": {
     "end_time": "2024-08-21T14:06:50.283650Z",
     "start_time": "2024-08-21T14:06:50.280068Z"
    }
   },
   "outputs": [
    {
     "data": {
      "text/plain": "{'C4_prep': {'PRMTOP': '/mnt/c/Users/ricca/Desktop/Documents/1_Coding/1_Script_Github/Chem_Script_Repo/OpenMM_VanillaMD_MMPBSA/examples/C4_prep/system.prmtop',\n  'DCD': '/mnt/c/Users/ricca/Desktop/Documents/1_Coding/1_Script_Github/Chem_Script_Repo/OpenMM_VanillaMD_MMPBSA/examples/C4_prep/Step3_Md_Rep0.dcd'}}"
     },
     "execution_count": 11,
     "metadata": {},
     "output_type": "execute_result"
    }
   ],
   "source": [
    "traj_top_paths"
   ]
  },
  {
   "cell_type": "code",
   "outputs": [
    {
     "name": "stdout",
     "output_type": "stream",
     "text": [
      "Stripping :HOH,NA,CL (solvent) from original topology, output is C4_prep/MMPBSA/complex.prmtop\n",
      "Done stripping solvent!\n",
      "\n",
      "Creating receptor topology file by stripping !(:UNK) from C4_prep/MMPBSA/complex.prmtop\n",
      "Done creating receptor topology file!\n",
      "\n",
      "Creating ligand topology file by stripping :UNK from C4_prep/MMPBSA/complex.prmtop\n",
      "Done creating ligand topology file!\n",
      "Loading and checking parameter files for compatibility...\n",
      "cpptraj found! Using /home/hitesit/mambaforge/envs/cheminf_3_11/bin/cpptraj\n",
      "mmpbsa_py_energy found! Using /home/hitesit/mambaforge/envs/cheminf_3_11/bin/mmpbsa_py_energy\n",
      "Preparing trajectories for simulation...\n",
      "4 frames were processed by cpptraj for use in calculation.\n",
      "\n",
      "Running calculations on normal system...\n",
      "\n",
      "Beginning GB calculations with /home/hitesit/mambaforge/envs/cheminf_3_11/bin/mmpbsa_py_energy\n",
      "  calculating complex contribution...\n",
      "  calculating receptor contribution...\n",
      "  calculating ligand contribution...\n",
      "\n",
      "Beginning PB calculations with /home/hitesit/mambaforge/envs/cheminf_3_11/bin/mmpbsa_py_energy\n",
      "  calculating complex contribution...\n",
      "  calculating receptor contribution...\n",
      "  calculating ligand contribution...\n",
      "\n",
      "Timing:\n",
      "Total setup time:                           0.005 min.\n",
      "Creating trajectories with cpptraj:         0.060 min.\n",
      "Total calculation time:                     1.163 min.\n",
      "\n",
      "Total GB calculation time:                  0.140 min.\n",
      "Total PB calculation time:                  1.022 min.\n",
      "\n",
      "Statistics calculation & output writing:    0.000 min.\n",
      "Total time taken:                           1.228 min.\n",
      "\n",
      "\n",
      "MMPBSA.py Finished! Thank you for using. Please cite us if you publish this work with this paper:\n",
      "   Miller III, B. R., McGee Jr., T. D., Swails, J. M. Homeyer, N. Gohlke, H. and Roitberg, A. E.\n",
      "   J. Chem. Theory Comput., 2012, 8 (9) pp 3314--3321\n",
      "Completed successfully\n"
     ]
    }
   ],
   "source": [
    "mmpbsa_df = Wrapper_MMPBSA(traj_top_paths)()"
   ],
   "metadata": {
    "collapsed": false,
    "ExecuteTime": {
     "end_time": "2024-08-21T14:08:46.177379Z",
     "start_time": "2024-08-21T14:07:24.468595Z"
    }
   },
   "id": "7636c5df0d674588",
   "execution_count": 13
  },
  {
   "cell_type": "code",
   "outputs": [
    {
     "data": {
      "text/plain": "    Ligand         GB        PB\n0  C4_prep -30.418668  3.433125",
      "text/html": "<div>\n<style scoped>\n    .dataframe tbody tr th:only-of-type {\n        vertical-align: middle;\n    }\n\n    .dataframe tbody tr th {\n        vertical-align: top;\n    }\n\n    .dataframe thead th {\n        text-align: right;\n    }\n</style>\n<table border=\"1\" class=\"dataframe\">\n  <thead>\n    <tr style=\"text-align: right;\">\n      <th></th>\n      <th>Ligand</th>\n      <th>GB</th>\n      <th>PB</th>\n    </tr>\n  </thead>\n  <tbody>\n    <tr>\n      <th>0</th>\n      <td>C4_prep</td>\n      <td>-30.418668</td>\n      <td>3.433125</td>\n    </tr>\n  </tbody>\n</table>\n</div>"
     },
     "execution_count": 14,
     "metadata": {},
     "output_type": "execute_result"
    }
   ],
   "source": [
    "mmpbsa_df"
   ],
   "metadata": {
    "collapsed": false,
    "ExecuteTime": {
     "end_time": "2024-08-21T14:08:46.192413Z",
     "start_time": "2024-08-21T14:08:46.179701Z"
    }
   },
   "id": "aa9314cead40f87e",
   "execution_count": 14
  },
  {
   "cell_type": "code",
   "execution_count": null,
   "id": "9e327da4",
   "metadata": {},
   "outputs": [],
   "source": []
  }
 ],
 "metadata": {
  "kernelspec": {
   "display_name": "Python 3",
   "language": "python",
   "name": "python3"
  },
  "language_info": {
   "codemirror_mode": {
    "name": "ipython",
    "version": 3
   },
   "file_extension": ".py",
   "mimetype": "text/x-python",
   "name": "python",
   "nbconvert_exporter": "python",
   "pygments_lexer": "ipython3",
   "version": "3.11.8"
  }
 },
 "nbformat": 4,
 "nbformat_minor": 5
}
