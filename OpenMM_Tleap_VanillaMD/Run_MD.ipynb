{
 "cells": [
  {
   "cell_type": "code",
   "execution_count": null,
   "metadata": {},
   "outputs": [],
   "source": [
    "import os\n",
    "import shutil\n",
    "import sys\n",
    "\n",
    "from utils.tleap import Tleap_Preparation\n",
    "from utils.molecular_dynamics import Molecular_Dynamics"
   ]
  },
  {
   "cell_type": "code",
   "execution_count": null,
   "metadata": {},
   "outputs": [],
   "source": [
    "tleap = True"
   ]
  },
  {
   "cell_type": "code",
   "execution_count": null,
   "metadata": {},
   "outputs": [],
   "source": [
    "if tleap == True:\n",
    "    tleap_prep = Tleap_Preparation(\"./example_run/input/8gcy.pdb\", \"./example_run/input/crystal.mol2\")\n",
    "    tleap_prep.work_dir(\"./example_run/\")\n",
    "    tleap_prep.pdb2pqr()\n",
    "    tleap_prep.obabel()\n",
    "    tleap_prep.rdkit_sanitize()\n",
    "    tleap_prep.create_complex()\n",
    "else:\n",
    "    pass"
   ]
  },
  {
   "cell_type": "code",
   "execution_count": 4,
   "metadata": {},
   "outputs": [],
   "source": [
    "if tleap == True:\n",
    "    tleap_prep.antechamber_ligand()\n",
    "    tleap_prep.run_tleap_box(10)\n",
    "    tleap_prep.run_tleap_ions(0.15)\n",
    "else:\n",
    "    pass"
   ]
  },
  {
   "cell_type": "code",
   "execution_count": null,
   "metadata": {},
   "outputs": [],
   "source": [
    "if tleap == True:\n",
    "    os.makedirs(\"./RUN\", exist_ok=True)\n",
    "    shutil.copy(\"./system.prmtop\", \"./RUN/system.prmtop\")\n",
    "    shutil.copy(\"./system.inpcrd\", \"./RUN/system.inpcrd\")\n",
    "else:\n",
    "    pass"
   ]
  },
  {
   "cell_type": "code",
   "execution_count": null,
   "metadata": {},
   "outputs": [],
   "source": [
    "try:\n",
    "    os.chdir(\"./RUN\")\n",
    "    # Verify that the current working directory is as expected\n",
    "    assert os.getcwd().endswith(\"RUN\"), \"Directory change to RUN failed\"\n",
    "except Exception as e:\n",
    "    print(f\"An error occurred: {e}\")"
   ]
  },
  {
   "cell_type": "code",
   "execution_count": null,
   "metadata": {},
   "outputs": [],
   "source": [
    "# Run settings\n",
    "delta_pico = 0.002\n",
    "\n",
    "nvt_settings = {\n",
    "    \"steps\": int(300 // delta_pico),      \n",
    "    \"dcd_save\":int(50 // delta_pico),\n",
    "    \"log_save\":int(1 // delta_pico),\n",
    "    \"temps_list_simulating\":[50, 100, 150, 200, 250, 300, 301]\n",
    "}\n",
    "\n",
    "npt_settings = {\n",
    "    \"steps\": int(300 // delta_pico),      \n",
    "    \"dcd_save\": int(50 // delta_pico),\n",
    "    \"log_save\": int(1 // delta_pico),\n",
    "    \"rests_list_decreasing\":[1000, 100, 10, 1, 0],\n",
    "    \"atoms_to_restraints\":{\"CA\"}\n",
    "}\n",
    "\n",
    "md_settings = {\n",
    "    \"steps\": int(1000 // delta_pico),     \n",
    "    \"dcd_save\":int(150 // delta_pico),\n",
    "    \"log_save\":int(20 // delta_pico)\n",
    "}"
   ]
  },
  {
   "cell_type": "code",
   "execution_count": null,
   "metadata": {},
   "outputs": [],
   "source": [
    "# run_type = args.run_type\n",
    "# gpu_id = str(args.gpu_id)\n",
    "# rerun = args.rerun\n",
    "\n",
    "run_type = \"eq\"\n",
    "gpu_id = \"0\"\n",
    "rerun = False\n",
    "\n",
    "if run_type in [\"prod\", \"eq\"]:\n",
    "    pass\n",
    "else:\n",
    "    print(\"Something Wrong\")\n",
    "    sys.exit()"
   ]
  },
  {
   "cell_type": "code",
   "execution_count": null,
   "metadata": {},
   "outputs": [],
   "source": [
    "### Equilibration \n",
    "if run_type == \"eq\":\n",
    "\n",
    "    md = Molecular_Dynamics(\"./system.prmtop\", \"./system.inpcrd\", \"0\")\n",
    "\n",
    "    # Create the System\n",
    "    md.create_system()\n",
    "    md.choose_integrator_params(nvt_settings[\"temps_list_simulating\"][0], delta_pico)\n",
    "    md.setup_simulation()\n",
    "\n",
    "    # Minimize the System\n",
    "    md.Minimization.minimize(md)\n",
    "\n",
    "    ## NVT\n",
    "    # Restraints the molecules of Water\n",
    "    md.Nvt.restraints_water(md)\n",
    "\n",
    "    # Choose temperature gradient\n",
    "    temps = nvt_settings[\"temps_list_simulating\"]\n",
    "    partial_steps = nvt_settings[\"steps\"] // len(temps)\n",
    "\n",
    "    # Setup Reporters\n",
    "    md.simulation.reporters.clear()\n",
    "    md.Nvt.setup_reporter(md, \"Step1_Nvt\", nvt_settings[\"steps\"], nvt_settings[\"dcd_save\"], nvt_settings[\"log_save\"], False)\n",
    "\n",
    "    # Run NVT\n",
    "    for t in temps:\n",
    "        print(f\"Temp = {t}\")\n",
    "        md.Nvt.run(md, partial_steps, t)\n",
    "\n",
    "    ## NPT\n",
    "    # Remove all previus restraints\n",
    "    md.remove_all_restraints()\n",
    "\n",
    "    # Add barostat\n",
    "    md.Npt.add_barostat(md)\n",
    "\n",
    "    # Choose restraints gradient\n",
    "    restr_list = npt_settings[\"rests_list_decreasing\"]\n",
    "    partial_steps = npt_settings[\"steps\"] // len(restr_list)\n",
    "\n",
    "    # Setup reporters\n",
    "    md.simulation.reporters.clear()\n",
    "    md.Npt.setup_reporter(md, \"Step2_Npt\", npt_settings[\"steps\"], npt_settings[\"dcd_save\"], npt_settings[\"log_save\"], False)\n",
    "\n",
    "    # Run NPT\n",
    "    for r in restr_list:\n",
    "        md.Npt.restraint_backbone(md, r, npt_settings[\"atoms_to_restraints\"])\n",
    "        print(f\"Restr = {r}\")\n",
    "        md.Npt.run(md, partial_steps)\n",
    "        md.remove_all_restraints()\n",
    "    \n",
    "    ## Remove all restraints and save the last state\n",
    "    md.remove_all_restraints()\n",
    "    md.simulation.reporters.clear()\n",
    "    final_npt_checkpoint = \"step2_last_NVT.chk\"\n",
    "    md.simulation.saveCheckpoint(final_npt_checkpoint)"
   ]
  },
  {
   "cell_type": "code",
   "execution_count": null,
   "metadata": {},
   "outputs": [],
   "source": [
    "run_type = \"prod\""
   ]
  },
  {
   "cell_type": "code",
   "execution_count": null,
   "metadata": {},
   "outputs": [],
   "source": [
    "if run_type == \"prod\":\n",
    "\n",
    "    md = Molecular_Dynamics(\"./system.prmtop\", \"./system.inpcrd\", gpu_id)\n",
    "\n",
    "    # Create the System\n",
    "    md.create_system()\n",
    "    md.choose_integrator_params(300, 0.002)\n",
    "    md.setup_simulation()\n",
    "\n",
    "    if rerun == False:\n",
    "        \n",
    "        # Load the NVT checkpoint\n",
    "        final_npt_checkpoint = \"step2_last_NVT.chk\"\n",
    "        with open(final_npt_checkpoint, 'rb') as f:\n",
    "            md.simulation.context.loadCheckpoint(f.read())\n",
    "        \n",
    "        # Setup reporters\n",
    "        md.simulation.reporters.clear()\n",
    "        md.Plain_Md.setup_reporter(md, f\"Step3_Md_Rep{md.n_gpu}\", md_settings[\"steps\"], md_settings[\"dcd_save\"], md_settings[\"log_save\"], False)\n",
    "\n",
    "        # Run MD\n",
    "        md.Plain_Md.run(md, f\"Step3_Md_Rep{md.n_gpu}\", md_settings[\"steps\"])\n",
    "        \n",
    "    elif rerun == True:\n",
    "        \n",
    "        final_md_checkpoint = f\"Step3_Md_Rep{md.n_gpu}.chk\"\n",
    "        \n",
    "        # Retrieve the last checkpoint\n",
    "        with open(final_md_checkpoint, 'rb') as f:\n",
    "                md.simulation.context.loadCheckpoint(f.read())\n",
    "        \n",
    "        # Setup reporters\n",
    "        md.Plain_Md.setup_reporter(md, f\"Step3_Md_Rep{md.n_gpu}\", md_settings[\"steps\"], md_settings[\"dcd_save\"], md_settings[\"log_save\"], True)\n",
    "        md.Plain_Md.run(md, f\"Step3_Md_Rep{md.n_gpu}\", md_settings[\"steps\"])\n",
    "        \n",
    "else:\n",
    "    pass"
   ]
  }
 ],
 "metadata": {
  "kernelspec": {
   "display_name": "MD",
   "language": "python",
   "name": "python3"
  },
  "language_info": {
   "codemirror_mode": {
    "name": "ipython",
    "version": 3
   },
   "file_extension": ".py",
   "mimetype": "text/x-python",
   "name": "python",
   "nbconvert_exporter": "python",
   "pygments_lexer": "ipython3",
   "version": "3.11.0"
  }
 },
 "nbformat": 4,
 "nbformat_minor": 2
}
